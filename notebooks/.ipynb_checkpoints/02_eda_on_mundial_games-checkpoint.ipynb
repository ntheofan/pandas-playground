{
 "cells": [
  {
   "cell_type": "markdown",
   "id": "66161fb0",
   "metadata": {},
   "source": [
    "# Exploratory Data Analysis of FIFA World Cup Matches\n",
    "\n",
    "This notebook performs an end‑to‑end exploratory data analysis on FIFA World Cup match data from the inaugural 1930 tournament up through the most recent edition. We will load, inspect and clean the data, then dive into trends in match counts, goal scoring, team performances and host‑country effects, using summary statistics and visualizations to surface key insights.\n",
    "\n",
    "## Objectives\n",
    "\n",
    "1. Load and inspect the raw match dataset to understand its structure, dimensions and data types.  \n",
    "2. Clean and preprocess the data: handle missing values, parse dates, standardize column names.  \n",
    "3. Analyze temporal trends: number of matches per tournament, average goals per match over time.  \n",
    "4. Examine team performance: top scoring teams, win/draw/loss distributions, stages reached.  \n",
    "5. Explore host‑country impact: home advantage, goals scored by hosts vs. visitors.  \n",
    "6. Summarize findings and outline next steps for deeper analysis or modeling."
   ]
  },
  {
   "cell_type": "code",
   "execution_count": 2,
   "id": "7fe759e2",
   "metadata": {},
   "outputs": [],
   "source": [
    "import pandas as pd"
   ]
  },
  {
   "cell_type": "code",
   "execution_count": 12,
   "id": "8d2f13e0",
   "metadata": {},
   "outputs": [],
   "source": [
    "df = pd.read_csv('../data/results_with_shootouts.csv')\n",
    "mundial = df[df['tournament'] == 'FIFA World Cup']"
   ]
  },
  {
   "cell_type": "code",
   "execution_count": 15,
   "id": "970fbe52",
   "metadata": {},
   "outputs": [
    {
     "data": {
      "text/html": [
       "<div>\n",
       "<style scoped>\n",
       "    .dataframe tbody tr th:only-of-type {\n",
       "        vertical-align: middle;\n",
       "    }\n",
       "\n",
       "    .dataframe tbody tr th {\n",
       "        vertical-align: top;\n",
       "    }\n",
       "\n",
       "    .dataframe thead th {\n",
       "        text-align: right;\n",
       "    }\n",
       "</style>\n",
       "<table border=\"1\" class=\"dataframe\">\n",
       "  <thead>\n",
       "    <tr style=\"text-align: right;\">\n",
       "      <th></th>\n",
       "      <th>date</th>\n",
       "      <th>home_team</th>\n",
       "      <th>away_team</th>\n",
       "      <th>home_score</th>\n",
       "      <th>away_score</th>\n",
       "      <th>tournament</th>\n",
       "      <th>city</th>\n",
       "      <th>country</th>\n",
       "      <th>neutral</th>\n",
       "      <th>match_result</th>\n",
       "      <th>year</th>\n",
       "      <th>winner</th>\n",
       "      <th>first_shooter</th>\n",
       "    </tr>\n",
       "  </thead>\n",
       "  <tbody>\n",
       "    <tr>\n",
       "      <th>1486</th>\n",
       "      <td>1930-07-13</td>\n",
       "      <td>Belgium</td>\n",
       "      <td>United States</td>\n",
       "      <td>0</td>\n",
       "      <td>3</td>\n",
       "      <td>FIFA World Cup</td>\n",
       "      <td>Montevideo</td>\n",
       "      <td>Uruguay</td>\n",
       "      <td>True</td>\n",
       "      <td>Away Win</td>\n",
       "      <td>1930</td>\n",
       "      <td>NaN</td>\n",
       "      <td>NaN</td>\n",
       "    </tr>\n",
       "    <tr>\n",
       "      <th>1487</th>\n",
       "      <td>1930-07-13</td>\n",
       "      <td>France</td>\n",
       "      <td>Mexico</td>\n",
       "      <td>4</td>\n",
       "      <td>1</td>\n",
       "      <td>FIFA World Cup</td>\n",
       "      <td>Montevideo</td>\n",
       "      <td>Uruguay</td>\n",
       "      <td>True</td>\n",
       "      <td>Home Win</td>\n",
       "      <td>1930</td>\n",
       "      <td>NaN</td>\n",
       "      <td>NaN</td>\n",
       "    </tr>\n",
       "    <tr>\n",
       "      <th>1488</th>\n",
       "      <td>1930-07-14</td>\n",
       "      <td>Brazil</td>\n",
       "      <td>Yugoslavia</td>\n",
       "      <td>1</td>\n",
       "      <td>2</td>\n",
       "      <td>FIFA World Cup</td>\n",
       "      <td>Montevideo</td>\n",
       "      <td>Uruguay</td>\n",
       "      <td>True</td>\n",
       "      <td>Away Win</td>\n",
       "      <td>1930</td>\n",
       "      <td>NaN</td>\n",
       "      <td>NaN</td>\n",
       "    </tr>\n",
       "    <tr>\n",
       "      <th>1489</th>\n",
       "      <td>1930-07-14</td>\n",
       "      <td>Peru</td>\n",
       "      <td>Romania</td>\n",
       "      <td>1</td>\n",
       "      <td>3</td>\n",
       "      <td>FIFA World Cup</td>\n",
       "      <td>Montevideo</td>\n",
       "      <td>Uruguay</td>\n",
       "      <td>True</td>\n",
       "      <td>Away Win</td>\n",
       "      <td>1930</td>\n",
       "      <td>NaN</td>\n",
       "      <td>NaN</td>\n",
       "    </tr>\n",
       "    <tr>\n",
       "      <th>1490</th>\n",
       "      <td>1930-07-15</td>\n",
       "      <td>Argentina</td>\n",
       "      <td>France</td>\n",
       "      <td>1</td>\n",
       "      <td>0</td>\n",
       "      <td>FIFA World Cup</td>\n",
       "      <td>Montevideo</td>\n",
       "      <td>Uruguay</td>\n",
       "      <td>True</td>\n",
       "      <td>Home Win</td>\n",
       "      <td>1930</td>\n",
       "      <td>NaN</td>\n",
       "      <td>NaN</td>\n",
       "    </tr>\n",
       "  </tbody>\n",
       "</table>\n",
       "</div>"
      ],
      "text/plain": [
       "            date  home_team      away_team  home_score  away_score  \\\n",
       "1486  1930-07-13    Belgium  United States           0           3   \n",
       "1487  1930-07-13     France         Mexico           4           1   \n",
       "1488  1930-07-14     Brazil     Yugoslavia           1           2   \n",
       "1489  1930-07-14       Peru        Romania           1           3   \n",
       "1490  1930-07-15  Argentina         France           1           0   \n",
       "\n",
       "          tournament        city  country  neutral match_result  year winner  \\\n",
       "1486  FIFA World Cup  Montevideo  Uruguay     True     Away Win  1930    NaN   \n",
       "1487  FIFA World Cup  Montevideo  Uruguay     True     Home Win  1930    NaN   \n",
       "1488  FIFA World Cup  Montevideo  Uruguay     True     Away Win  1930    NaN   \n",
       "1489  FIFA World Cup  Montevideo  Uruguay     True     Away Win  1930    NaN   \n",
       "1490  FIFA World Cup  Montevideo  Uruguay     True     Home Win  1930    NaN   \n",
       "\n",
       "     first_shooter  \n",
       "1486           NaN  \n",
       "1487           NaN  \n",
       "1488           NaN  \n",
       "1489           NaN  \n",
       "1490           NaN  "
      ]
     },
     "execution_count": 15,
     "metadata": {},
     "output_type": "execute_result"
    }
   ],
   "source": [
    "mundial.head()"
   ]
  },
  {
   "cell_type": "code",
   "execution_count": 26,
   "id": "59cd54aa",
   "metadata": {},
   "outputs": [
    {
     "name": "stdout",
     "output_type": "stream",
     "text": [
      "[1930 1934 1938 1950 1954 1958 1962 1966 1970 1974 1978 1982 1986 1990\n",
      " 1994 1998 2002 2006 2010 2014 2018 2022]\n"
     ]
    }
   ],
   "source": [
    "print(mundial['year'].unique())"
   ]
  },
  {
   "cell_type": "code",
   "execution_count": null,
   "id": "7b356f6e",
   "metadata": {},
   "outputs": [],
   "source": []
  }
 ],
 "metadata": {
  "kernelspec": {
   "display_name": ".venv",
   "language": "python",
   "name": "python3"
  },
  "language_info": {
   "codemirror_mode": {
    "name": "ipython",
    "version": 3
   },
   "file_extension": ".py",
   "mimetype": "text/x-python",
   "name": "python",
   "nbconvert_exporter": "python",
   "pygments_lexer": "ipython3",
   "version": "3.13.5"
  }
 },
 "nbformat": 4,
 "nbformat_minor": 5
}
