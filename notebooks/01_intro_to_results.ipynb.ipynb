{
 "cells": [
  {
   "cell_type": "markdown",
   "id": "ad27228c",
   "metadata": {},
   "source": [
    "# 📊 Match Count per Year Analysis\n",
    "In this notebook, we analyze the number of international football matches played each year using the `results.csv` dataset.\n",
    "\n",
    "We'll:\n",
    "- Load and inspect the data\n",
    "- Convert date columns properly\n",
    "- Group matches by year\n",
    "- Visualize trends in match activity over time\n"
   ]
  },
  {
   "cell_type": "code",
   "execution_count": null,
   "id": "3144b620",
   "metadata": {},
   "outputs": [],
   "source": [
    "import pandas as pd\n",
    "\n",
    "\n",
    "df = pd.read_csv(\"../data/results.csv\")\n"
   ]
  },
  {
   "cell_type": "code",
   "execution_count": 138,
   "id": "0e455448",
   "metadata": {},
   "outputs": [
    {
     "data": {
      "text/html": [
       "<div>\n",
       "<style scoped>\n",
       "    .dataframe tbody tr th:only-of-type {\n",
       "        vertical-align: middle;\n",
       "    }\n",
       "\n",
       "    .dataframe tbody tr th {\n",
       "        vertical-align: top;\n",
       "    }\n",
       "\n",
       "    .dataframe thead th {\n",
       "        text-align: right;\n",
       "    }\n",
       "</style>\n",
       "<table border=\"1\" class=\"dataframe\">\n",
       "  <thead>\n",
       "    <tr style=\"text-align: right;\">\n",
       "      <th></th>\n",
       "      <th>date</th>\n",
       "      <th>home_team</th>\n",
       "      <th>away_team</th>\n",
       "      <th>home_score</th>\n",
       "      <th>away_score</th>\n",
       "      <th>tournament</th>\n",
       "      <th>city</th>\n",
       "      <th>country</th>\n",
       "      <th>neutral</th>\n",
       "    </tr>\n",
       "  </thead>\n",
       "  <tbody>\n",
       "    <tr>\n",
       "      <th>0</th>\n",
       "      <td>1872-11-30</td>\n",
       "      <td>Scotland</td>\n",
       "      <td>England</td>\n",
       "      <td>0</td>\n",
       "      <td>0</td>\n",
       "      <td>Friendly</td>\n",
       "      <td>Glasgow</td>\n",
       "      <td>Scotland</td>\n",
       "      <td>False</td>\n",
       "    </tr>\n",
       "    <tr>\n",
       "      <th>1</th>\n",
       "      <td>1873-03-08</td>\n",
       "      <td>England</td>\n",
       "      <td>Scotland</td>\n",
       "      <td>4</td>\n",
       "      <td>2</td>\n",
       "      <td>Friendly</td>\n",
       "      <td>London</td>\n",
       "      <td>England</td>\n",
       "      <td>False</td>\n",
       "    </tr>\n",
       "    <tr>\n",
       "      <th>2</th>\n",
       "      <td>1874-03-07</td>\n",
       "      <td>Scotland</td>\n",
       "      <td>England</td>\n",
       "      <td>2</td>\n",
       "      <td>1</td>\n",
       "      <td>Friendly</td>\n",
       "      <td>Glasgow</td>\n",
       "      <td>Scotland</td>\n",
       "      <td>False</td>\n",
       "    </tr>\n",
       "    <tr>\n",
       "      <th>3</th>\n",
       "      <td>1875-03-06</td>\n",
       "      <td>England</td>\n",
       "      <td>Scotland</td>\n",
       "      <td>2</td>\n",
       "      <td>2</td>\n",
       "      <td>Friendly</td>\n",
       "      <td>London</td>\n",
       "      <td>England</td>\n",
       "      <td>False</td>\n",
       "    </tr>\n",
       "    <tr>\n",
       "      <th>4</th>\n",
       "      <td>1876-03-04</td>\n",
       "      <td>Scotland</td>\n",
       "      <td>England</td>\n",
       "      <td>3</td>\n",
       "      <td>0</td>\n",
       "      <td>Friendly</td>\n",
       "      <td>Glasgow</td>\n",
       "      <td>Scotland</td>\n",
       "      <td>False</td>\n",
       "    </tr>\n",
       "  </tbody>\n",
       "</table>\n",
       "</div>"
      ],
      "text/plain": [
       "         date home_team away_team  home_score  away_score tournament     city  \\\n",
       "0  1872-11-30  Scotland   England           0           0   Friendly  Glasgow   \n",
       "1  1873-03-08   England  Scotland           4           2   Friendly   London   \n",
       "2  1874-03-07  Scotland   England           2           1   Friendly  Glasgow   \n",
       "3  1875-03-06   England  Scotland           2           2   Friendly   London   \n",
       "4  1876-03-04  Scotland   England           3           0   Friendly  Glasgow   \n",
       "\n",
       "    country  neutral  \n",
       "0  Scotland    False  \n",
       "1   England    False  \n",
       "2  Scotland    False  \n",
       "3   England    False  \n",
       "4  Scotland    False  "
      ]
     },
     "execution_count": 138,
     "metadata": {},
     "output_type": "execute_result"
    }
   ],
   "source": [
    "df.head()"
   ]
  },
  {
   "cell_type": "code",
   "execution_count": 139,
   "id": "b3297353",
   "metadata": {},
   "outputs": [
    {
     "name": "stdout",
     "output_type": "stream",
     "text": [
      "<class 'pandas.core.frame.DataFrame'>\n",
      "RangeIndex: 48366 entries, 0 to 48365\n",
      "Data columns (total 9 columns):\n",
      " #   Column      Non-Null Count  Dtype \n",
      "---  ------      --------------  ----- \n",
      " 0   date        48366 non-null  object\n",
      " 1   home_team   48366 non-null  object\n",
      " 2   away_team   48366 non-null  object\n",
      " 3   home_score  48366 non-null  int64 \n",
      " 4   away_score  48366 non-null  int64 \n",
      " 5   tournament  48366 non-null  object\n",
      " 6   city        48366 non-null  object\n",
      " 7   country     48366 non-null  object\n",
      " 8   neutral     48366 non-null  bool  \n",
      "dtypes: bool(1), int64(2), object(6)\n",
      "memory usage: 3.0+ MB\n"
     ]
    }
   ],
   "source": [
    "df.info()"
   ]
  },
  {
   "cell_type": "code",
   "execution_count": 140,
   "id": "29bf744f",
   "metadata": {},
   "outputs": [
    {
     "data": {
      "text/plain": [
       "tournament\n",
       "Friendly                                18118\n",
       "FIFA World Cup qualification             8419\n",
       "UEFA Euro qualification                  2824\n",
       "African Cup of Nations qualification     2278\n",
       "FIFA World Cup                            964\n",
       "Copa América                              869\n",
       "AFC Asian Cup qualification               794\n",
       "African Cup of Nations                    793\n",
       "UEFA Nations League                       658\n",
       "CECAFA Cup                                620\n",
       "CFU Caribbean Cup qualification           606\n",
       "Merdeka Tournament                        599\n",
       "British Home Championship                 523\n",
       "CONCACAF Nations League                   422\n",
       "AFC Asian Cup                             421\n",
       "Gold Cup                                  420\n",
       "Gulf Cup                                  410\n",
       "UEFA Euro                                 388\n",
       "Island Games                              379\n",
       "Asian Games                               368\n",
       "Name: count, dtype: int64"
      ]
     },
     "execution_count": 140,
     "metadata": {},
     "output_type": "execute_result"
    }
   ],
   "source": [
    "df[\"tournament\"].value_counts().head(20)"
   ]
  },
  {
   "cell_type": "code",
   "execution_count": 141,
   "id": "619ee47b",
   "metadata": {},
   "outputs": [
    {
     "name": "stderr",
     "output_type": "stream",
     "text": [
      "C:\\Users\\ntheo\\AppData\\Local\\Temp\\ipykernel_7160\\3828124419.py:1: UserWarning: Boolean Series key will be reindexed to match DataFrame index.\n",
      "  df[(df['home_team'] == \"Greece\") | (df['away_team'] == \"Greece\")][df['tournament']!= \"Friendly\"].count()\n"
     ]
    },
    {
     "data": {
      "text/plain": [
       "date          355\n",
       "home_team     355\n",
       "away_team     355\n",
       "home_score    355\n",
       "away_score    355\n",
       "tournament    355\n",
       "city          355\n",
       "country       355\n",
       "neutral       355\n",
       "dtype: int64"
      ]
     },
     "execution_count": 141,
     "metadata": {},
     "output_type": "execute_result"
    }
   ],
   "source": [
    "df[(df['home_team'] == \"Greece\") | (df['away_team'] == \"Greece\")][df['tournament']!= \"Friendly\"].count()"
   ]
  },
  {
   "cell_type": "code",
   "execution_count": 142,
   "id": "1b2b523a",
   "metadata": {},
   "outputs": [],
   "source": [
    "df['match_result'] = df.apply(\n",
    "    lambda row: 'Home Win' if row['home_score'] > row['away_score']\n",
    "    else ('Away Win' if row['home_score'] < row['away_score'] else 'Draw'),\n",
    "    axis=1\n",
    ")"
   ]
  },
  {
   "cell_type": "code",
   "execution_count": 143,
   "id": "6dcf430a",
   "metadata": {},
   "outputs": [
    {
     "data": {
      "text/plain": [
       "0            Draw\n",
       "1        Home Win\n",
       "2        Home Win\n",
       "3            Draw\n",
       "4        Home Win\n",
       "           ...   \n",
       "48361        Draw\n",
       "48362        Draw\n",
       "48363    Home Win\n",
       "48364    Home Win\n",
       "48365    Away Win\n",
       "Name: match_result, Length: 48366, dtype: object"
      ]
     },
     "execution_count": 143,
     "metadata": {},
     "output_type": "execute_result"
    }
   ],
   "source": [
    "df['match_result']"
   ]
  },
  {
   "cell_type": "code",
   "execution_count": 144,
   "id": "744b1420",
   "metadata": {},
   "outputs": [],
   "source": [
    "df['date'] = pd.to_datetime(df['date'], format='%Y-%m-%d')"
   ]
  },
  {
   "cell_type": "code",
   "execution_count": 145,
   "id": "9c435192",
   "metadata": {},
   "outputs": [],
   "source": [
    "df['year'] = df['date'].dt.year"
   ]
  },
  {
   "cell_type": "code",
   "execution_count": 146,
   "id": "019492b3",
   "metadata": {},
   "outputs": [
    {
     "name": "stdout",
     "output_type": "stream",
     "text": [
      "year\n",
      "1872       1\n",
      "1873       1\n",
      "1874       1\n",
      "1875       1\n",
      "1876       2\n",
      "        ... \n",
      "2021    1115\n",
      "2022     969\n",
      "2023    1054\n",
      "2024    1169\n",
      "2025     379\n",
      "Name: match_result, Length: 154, dtype: int64\n"
     ]
    }
   ],
   "source": [
    "games_per_year = df.groupby('year')['match_result'].count()\n",
    "print(games_per_year)"
   ]
  },
  {
   "cell_type": "code",
   "execution_count": 147,
   "id": "2b09f761",
   "metadata": {},
   "outputs": [
    {
     "data": {
      "text/plain": [
       "year\n",
       "2024    1169\n",
       "2019    1147\n",
       "2011    1115\n",
       "2021    1115\n",
       "2008    1101\n",
       "2004    1079\n",
       "2023    1054\n",
       "2000    1040\n",
       "2015    1039\n",
       "2001    1031\n",
       "Name: match_result, dtype: int64"
      ]
     },
     "execution_count": 147,
     "metadata": {},
     "output_type": "execute_result"
    }
   ],
   "source": [
    "games_per_year.sort_values(ascending=False).head(10)"
   ]
  }
 ],
 "metadata": {
  "kernelspec": {
   "display_name": ".venv",
   "language": "python",
   "name": "python3"
  },
  "language_info": {
   "codemirror_mode": {
    "name": "ipython",
    "version": 3
   },
   "file_extension": ".py",
   "mimetype": "text/x-python",
   "name": "python",
   "nbconvert_exporter": "python",
   "pygments_lexer": "ipython3",
   "version": "3.13.5"
  }
 },
 "nbformat": 4,
 "nbformat_minor": 5
}
